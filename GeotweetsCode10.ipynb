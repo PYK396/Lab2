{
  "cells": [
    {
      "cell_type": "code",
      "execution_count": null,
      "metadata": {
        "id": "EtnaSlH-wplB"
      },
      "outputs": [],
      "source": [
        "# created on Dec 24, 2020\n",
        "# modified on April 12, 2022\n",
        "# @author:          Bo Zhao\n",
        "# @email:           zhaobo@uw.edu\n",
        "# @website:         https://hgis.uw.edu\n",
        "# @organization:    Department of Geography, University of Washington, Seattle\n",
        "# @description:     Search geo-tagged tweets within the U.S. This script is modified from https://github.com/shawn-terryah/Twitter_Geolocation"
      ]
    },
    {
      "cell_type": "code",
      "execution_count": null,
      "metadata": {
        "id": "f-bMdKMawxnQ",
        "colab": {
          "base_uri": "https://localhost:8080/"
        },
        "outputId": "95e48c27-bbf8-4127-c764-18b438872bbd"
      },
      "outputs": [
        {
          "output_type": "stream",
          "name": "stdout",
          "text": [
            "Mounted at /gdrive\n"
          ]
        }
      ],
      "source": [
        "import tweepy, json, time\n",
        "import pandas as pd\n",
        "from google.colab import files\n",
        "# Create data on to Google Drive\n",
        "from google.colab import drive\n",
        "# Mount your Drive to the Colab VM.\n",
        "drive.mount('/gdrive')"
      ]
    },
    {
      "cell_type": "code",
      "execution_count": null,
      "metadata": {
        "id": "dEyPts-ZwplE"
      },
      "outputs": [],
      "source": [
        "class StreamListener(tweepy.StreamListener):\n",
        "    \"\"\"tweepy.StreamListener is a class provided by tweepy used to access\n",
        "    the Twitter Streaming API to collect tweets in real-time.\n",
        "    \"\"\"\n",
        "\n",
        "    def __init__(self, time_limit=60, file=\"\"):\n",
        "        \"\"\"class initialization\"\"\"\n",
        "        self.start_time = time.time()\n",
        "        self.limit = time_limit\n",
        "        self.result = []\n",
        "        self.f = file\n",
        "        super(StreamListener, self).__init__()\n",
        "\n",
        "    def on_data(self, data):\n",
        "        \"\"\"This is called when data are streamed in.\"\"\"\n",
        "        if (time.time() - self.start_time) < self.limit:\n",
        "            datajson = json.loads(data)\n",
        "            # print(datajson, \"\\n\")\n",
        "            if 'id' not in datajson.keys():\n",
        "                time.sleep(10)\n",
        "            else:\n",
        "                id = datajson['id']\n",
        "                username = datajson['user']['screen_name']\n",
        "                created_at = datajson['created_at']\n",
        "                text = datajson['text'].strip().replace(\"\\n\", \"\")\n",
        "\n",
        "                # process the geo-tags\n",
        "                if datajson['coordinates'] == None:\n",
        "                    try:\n",
        "                        bbox = datajson['place']['bounding_box']['coordinates'][0]\n",
        "                        lng = (bbox[0][0] + bbox[2][0]) / 2.0\n",
        "                        lat = (bbox[0][1] + bbox[1][1]) / 2.0\n",
        "                    except:\n",
        "                        lat = 0\n",
        "                        lng = 0\n",
        "                else:\n",
        "                    lng = datajson['coordinates']['coordinates'][0]\n",
        "                    lat = datajson['coordinates']['coordinates'][1]\n",
        "\n",
        "                if lat != 0:\n",
        "                    row = {\n",
        "                        'id': id,\n",
        "                        'username': username,\n",
        "                        'created_at': created_at,\n",
        "                        'lng': lng,\n",
        "                        'lat': lat,\n",
        "                        'text': text\n",
        "                    }\n",
        "                    print(row)\n",
        "                    self.result.append(row)\n",
        "                else:\n",
        "                    pass\n",
        "        else:\n",
        "            df = pd.DataFrame(self.result)\n",
        "            df.to_csv(self.f, index=False)\n",
        "            # download the csv to your local computer\n",
        "            files.download(self.f)\n",
        "            print(\"the csv has been downloaded to your local computer. The program has been completed successfully.\")\n",
        "            return False"
      ]
    },
    {
      "cell_type": "code",
      "execution_count": null,
      "metadata": {
        "id": "5Xzyo_OiwplG",
        "colab": {
          "base_uri": "https://localhost:8080/",
          "height": 1000
        },
        "outputId": "9f8040d0-954e-4397-e7f4-76a954d3e5ee"
      },
      "outputs": [
        {
          "output_type": "stream",
          "name": "stdout",
          "text": [
            "{'id': 1516903261307117569, 'username': 'NickyFrank30', 'created_at': 'Wed Apr 20 22:14:54 +0000 2022', 'lng': -73.8311875, 'lat': 40.6708795, 'text': '“We need to wear masks to bring the numbers down”*Numbers come down*“We need to wear masks to keep numbers down”… https://t.co/sKD2gKmyzi'}\n",
            "{'id': 1516903261587927042, 'username': 'moodypolitics', 'created_at': 'Wed Apr 20 22:14:54 +0000 2022', 'lng': -118.44784, 'lat': 33.9752445, 'text': '@RonFilipkowski Awwwwwww Pooh lil baybeeeee'}\n",
            "{'id': 1516903262821273605, 'username': 'daxtonchavez', 'created_at': 'Wed Apr 20 22:14:55 +0000 2022', 'lng': -72.27397500000001, 'lat': 41.818713, 'text': 'Extremely thankful to @UConnFootball and the entire coaching staff for today’s experience!Not only an incredible fa… https://t.co/DMCUwDHCZF'}\n",
            "{'id': 1516903264138059776, 'username': 'slapppypapppy', 'created_at': 'Wed Apr 20 22:14:55 +0000 2022', 'lng': -97.754724, 'lat': 30.323345500000002, 'text': '@lovennft Take a dabbbb 4/20 blaze it'}\n",
            "{'id': 1516903265207685120, 'username': 'WaxAlmighty', 'created_at': 'Wed Apr 20 22:14:55 +0000 2022', 'lng': -118.4119065, 'lat': 34.0207895, 'text': '@StonerStreams @theafroaries @ajnassudah @Stoney_Gonzalez @SuperSpaceTTV @GalaxiGroot @ColinCantAim @eL4ourGee They… https://t.co/dQQbCHVAi8'}\n",
            "{'id': 1516903266956754944, 'username': 'thewildindigo2', 'created_at': 'Wed Apr 20 22:14:56 +0000 2022', 'lng': -104.92209349999999, 'lat': 39.713563, 'text': '@CroneWitch_51 Hell yeah. My only wish was that they played some goth music (as well as punk and metal). This sometimes stoner likes that.'}\n",
            "{'id': 1516903266113757191, 'username': 'BedrockCity', 'created_at': 'Wed Apr 20 22:14:55 +0000 2022', 'lng': -95.44648649999999, 'lat': 29.838495, 'text': 'Doctor Strange in the Multiverse of Madness advance screening! Be the first to see the movie with us on May 4 befor… https://t.co/UAp6w4sT9S'}\n",
            "{'id': 1516903268059860992, 'username': 'EarlyONottawa', 'created_at': 'Wed Apr 20 22:14:56 +0000 2022', 'lng': -75.8001415, 'lat': 45.248791, 'text': 'Children and families want to do well! #DYK@CrossroadCentre works WITH you and your child to address what’s gettin… https://t.co/MAsliZl1l1'}\n",
            "{'id': 1516903269146185728, 'username': 'Ronaldlee__', 'created_at': 'Wed Apr 20 22:14:56 +0000 2022', 'lng': -78.657837, 'lat': 35.8439815, 'text': 'EURO STEP LAY FTW thru 3 ppl ‼️😈I was on DemonTime last night fasho ✅ https://t.co/Zwt7Iz30yj'}\n",
            "{'id': 1516903271318835201, 'username': 'KeetaNico', 'created_at': 'Wed Apr 20 22:14:57 +0000 2022', 'lng': -77.388976, 'lat': 38.970725, 'text': '@80suburbia I learned that I love my me time 😂'}\n",
            "{'id': 1516903271851507714, 'username': 'foureleven_', 'created_at': 'Wed Apr 20 22:14:57 +0000 2022', 'lng': -95.44648649999999, 'lat': 29.838495, 'text': 'I been wearing my waist trainer all day this is the first time I’ve done this lol'}\n",
            "{'id': 1516903272468033537, 'username': 'Herronisland', 'created_at': 'Wed Apr 20 22:14:57 +0000 2022', 'lng': -120.882482, 'lat': 47.273022, 'text': 'Why would I want to watch two disgusting meat bags?'}\n",
            "{'id': 1516903272212320260, 'username': 'DukeOfNE', 'created_at': 'Wed Apr 20 22:14:57 +0000 2022', 'lng': -71.0887125, 'lat': 42.3136695, 'text': '@MBTA What about the missing rails that someone removed from the last bench at Davis Square Station inbound side? S… https://t.co/RRvO0qlVm7'}\n",
            "{'id': 1516903274086944768, 'username': 'hermanlete', 'created_at': 'Wed Apr 20 22:14:57 +0000 2022', 'lng': -117.46269799999999, 'lat': 34.1081605, 'text': '@AlexBehunin after strickland match him up against marvin'}\n",
            "{'id': 1516903273915166724, 'username': 'TheHermitDruid', 'created_at': 'Wed Apr 20 22:14:57 +0000 2022', 'lng': -79.2725695, 'lat': 43.629311, 'text': 'I used to be like “ah man I wish this was 2 mana and didn’t have the reanimating ability” but now I’m brewing with… https://t.co/cRHu1tA6QP'}\n",
            "{'id': 1516903274682662913, 'username': '_texas_savage_', 'created_at': 'Wed Apr 20 22:14:58 +0000 2022', 'lng': -100.0768885, 'lat': 31.1688935, 'text': 'Not my tias using me as an example when I’m a absolute piece of shit \\U0001fae0'}\n",
            "{'id': 1516903274711986176, 'username': 'tmj_rip_sales', 'created_at': 'Wed Apr 20 22:14:58 +0000 2022', 'lng': -71.3527473, 'lat': 41.8817178, 'text': 'If jobs with titles like \"Management Trainee\" sound appealing to you, follow us to hear about these types of opport… https://t.co/NcBpOQ2991'}\n",
            "{'id': 1516903275584364544, 'username': 'arianaguilar01', 'created_at': 'Wed Apr 20 22:14:58 +0000 2022', 'lng': -117.66185300000001, 'lat': 34.119646, 'text': '@HeytheredaIiIa i would’ve cried &amp; went home 😭'}\n",
            "{'id': 1516903277492768769, 'username': 'ScottsdaleBubbe', 'created_at': 'Wed Apr 20 22:14:58 +0000 2022', 'lng': -112.12467649999999, 'lat': 33.5528625, 'text': 'French voters: Better looking than Trump; more dangerous for you to the 10th power. Do not vote against your and yo… https://t.co/okD6zrcZ1L'}\n",
            "{'id': 1516903277782208512, 'username': 'tmj_AL_facmgmt', 'created_at': 'Wed Apr 20 22:14:58 +0000 2022', 'lng': -86.4596966, 'lat': 32.4640245, 'text': 'Join the James Hardie Building Products team! See our latest job opening here: https://t.co/cqJiVPJpem #FacilitiesMgmt #Prattville, AL'}\n",
            "{'id': 1516903277023182851, 'username': 'oldskoolj52', 'created_at': 'Wed Apr 20 22:14:58 +0000 2022', 'lng': -81.404855, 'lat': 30.27988, 'text': 'On occasion you have to elevate higher than the competition. https://t.co/fcHPjRWWCG'}\n",
            "{'id': 1516903278214320128, 'username': 'GS_FromTn', 'created_at': 'Wed Apr 20 22:14:58 +0000 2022', 'lng': -85.9785995, 'lat': 35.8305215, 'text': 'Gee thanks ...I am now 1% dumber for having watched it. She sucked out 1% of my intelligence......'}\n",
            "{'id': 1516903278910443520, 'username': 'plantbasedb', 'created_at': 'Wed Apr 20 22:14:59 +0000 2022', 'lng': -75.8001415, 'lat': 45.248791, 'text': 'I just saw my doppelgänger jog into my condo building….'}\n",
            "{'id': 1516903280231821313, 'username': 'samueljrob', 'created_at': 'Wed Apr 20 22:14:59 +0000 2022', 'lng': -83.099288, 'lat': 42.3527865, 'text': 'Detroit n*gga challenge, what’s your dope like? https://t.co/RuAY6w1r8u'}\n",
            "{'id': 1516903280353361922, 'username': 'JackWeb53085992', 'created_at': 'Wed Apr 20 22:14:59 +0000 2022', 'lng': -83.986413, 'lat': 35.7261815, 'text': \"@PeggyMcdonald65 @antifaoperative @jbsmileyjr Peggy the county I live in Blount, is so Red there's times I would sw… https://t.co/mybrpsMoZv\"}\n",
            "{'id': 1516903279401254912, 'username': 'tommyterps', 'created_at': 'Wed Apr 20 22:14:59 +0000 2022', 'lng': -78.85356300000001, 'lat': 42.896229500000004, 'text': 'they do a fantasy football league at my new job. i hope they’re ready for me to take all their money. https://t.co/BX9r5WAPaN'}\n",
            "{'id': 1516903281951264769, 'username': 'silverorca007', 'created_at': 'Wed Apr 20 22:14:59 +0000 2022', 'lng': -118.130426, 'lat': 33.9376735, 'text': '@HuffPost And she’s who they elected to be in charge of their money'}\n",
            "{'id': 1516903282375020544, 'username': 'PagingDrCrutch', 'created_at': 'Wed Apr 20 22:14:59 +0000 2022', 'lng': -90.98285, 'lat': 36.27019799999999, 'text': 'Happy birthday Fritz DeFries @WilldeFries 🤙 #PrinceoftheWillmamis'}\n",
            "{'id': 1516903281703985155, 'username': 'Reported_NYC', 'created_at': 'Wed Apr 20 22:14:59 +0000 2022', 'lng': -73.9857119, 'lat': 40.6799732, 'text': 'Mercedes-Benz Metris Base via driver T743969C parked illegally near 558 Degraw St on April 20 and has been reported… https://t.co/QJj5xBa8ac'}\n",
            "{'id': 1516903282362486798, 'username': 'Tom_in_Ohio', 'created_at': 'Wed Apr 20 22:14:59 +0000 2022', 'lng': -87.66841, 'lat': 42.01609, 'text': 'Cheers, #nufc, from Chicago.Well done https://t.co/q5qzvA1spL'}\n",
            "{'id': 1516903281213288451, 'username': 'UAB_WBBALL', 'created_at': 'Wed Apr 20 22:14:59 +0000 2022', 'lng': -86.793917, 'lat': 33.5422375, 'text': 'Committed to 𝐞𝐱𝐜𝐞𝐥𝐥𝐞𝐧𝐜𝐞.Our new practice facility is OPEN ✂️#WinAsOne https://t.co/e4OpcsSKUj'}\n",
            "{'id': 1516903284296069120, 'username': 'DOMO___J20', 'created_at': 'Wed Apr 20 22:15:00 +0000 2022', 'lng': -82.063185, 'lat': 33.4407175, 'text': '@RacerX___ Good sun and good smoke can’t be beat.'}\n",
            "{'id': 1516903284614651906, 'username': 'nofidd', 'created_at': 'Wed Apr 20 22:15:00 +0000 2022', 'lng': -116.316496, 'lat': 48.691, 'text': '@DougzInBoston @OldSchoolSciFi @ksorbs I had an internist who once told me that he hadn’t had a cold in 40 years be… https://t.co/u9R9iQaVne'}\n",
            "{'id': 1516903284824580104, 'username': 'IndivisibleInFL', 'created_at': 'Wed Apr 20 22:15:00 +0000 2022', 'lng': -83.804475, 'lat': 27.698681999999998, 'text': '@prmullen69 @Kimberlynwriter You don’t know her financial situation remember'}\n",
            "{'id': 1516903284837134337, 'username': 'westie_2011', 'created_at': 'Wed Apr 20 22:15:00 +0000 2022', 'lng': -74.185292, 'lat': 41.318312, 'text': '@mkkraemer If the circulation on planes is so great why did I get sick every time I flew, except when the mask mandates was in effect?'}\n",
            "{'id': 1516903285378060288, 'username': 'LA_fanatik1', 'created_at': 'Wed Apr 20 22:15:00 +0000 2022', 'lng': -115.23443549999999, 'lat': 36.0188045, 'text': '@Its__CJ__ @_gahbee Yes she does!!!'}\n",
            "{'id': 1516903286137229313, 'username': 'callme_STEP', 'created_at': 'Wed Apr 20 22:15:00 +0000 2022', 'lng': -93.26916, 'lat': 44.68777, 'text': 'Just posted a photo @ St. Paul, Minnesota https://t.co/eUUsl2oKuE'}\n",
            "{'id': 1516903288351821824, 'username': 'kokid951', 'created_at': 'Wed Apr 20 22:15:01 +0000 2022', 'lng': -117.90564549999999, 'lat': 33.6636085, 'text': 'buying more weed NFTs right now💚 only logical thing to do today. wagmi'}\n",
            "{'id': 1516903288809181185, 'username': 'Yung_Spoo22', 'created_at': 'Wed Apr 20 22:15:01 +0000 2022', 'lng': -97.1356375, 'lat': 32.70185, 'text': '@leftofbangent @B_Hooks I wanna be apart of it..'}\n",
            "{'id': 1516903289497001990, 'username': 'flippachu', 'created_at': 'Wed Apr 20 22:15:01 +0000 2022', 'lng': -76.934487, 'lat': 38.9969705, 'text': '@JXjunk @NevermoreINT But also I attack indiscriminately so you may die'}\n",
            "{'id': 1516903290037956609, 'username': 'connorsmw19', 'created_at': 'Wed Apr 20 22:15:01 +0000 2022', 'lng': -122.551095, 'lat': 45.410135, 'text': '@backtolife_2022 Eat a dick'}\n",
            "{'id': 1516903290688188418, 'username': 'B0NNIE_B00', 'created_at': 'Wed Apr 20 22:15:01 +0000 2022', 'lng': -77.0143985, 'lat': 38.898602999999994, 'text': 'I love roses now that I’m older. Back then, the hood rat in me wanted money or a bottle of wine or alcohol 🤣'}\n",
            "{'id': 1516903290356649984, 'username': 'pdxpolicelog', 'created_at': 'Wed Apr 20 22:15:01 +0000 2022', 'lng': -122.690364, 'lat': 45.526374, 'text': 'VANDALISM - PRIORITY at NW GLISAN ST / NW 19TH AVE, PORT [Portland Police #PP22000104904] 14:18 #pdx911'}\n",
            "{'id': 1516903291292114944, 'username': 'keezygoated', 'created_at': 'Wed Apr 20 22:15:02 +0000 2022', 'lng': -91.0907995, 'lat': 30.4591, 'text': 'Saints always on the odds list knowing they don’t budge'}\n",
            "{'id': 1516903291669696514, 'username': 'imcutterbutter', 'created_at': 'Wed Apr 20 22:15:02 +0000 2022', 'lng': -97.461937, 'lat': 32.685584500000004, 'text': '@UTBarstool The troops would want us to put up 40, it’s the right thing to do'}\n",
            "{'id': 1516903291736666112, 'username': 'pdxpolicelog', 'created_at': 'Wed Apr 20 22:15:02 +0000 2022', 'lng': -122.558904, 'lat': 45.532607, 'text': 'SUSPICIOUS SUBJ, VEH, OR CIRCUMSTANCE at 1300 NE 102ND AVE, PORT [Portland Police #PP22000104798] 13:48 #pdx911'}\n",
            "{'id': 1516903292437250049, 'username': 'nick_ponton', 'created_at': 'Wed Apr 20 22:15:02 +0000 2022', 'lng': -85.5656885, 'lat': 42.290524000000005, 'text': '.@MIAttyGen report: Benton Harbor teen chased, knocked into river in 1991 https://t.co/2fnl4eUUeF'}\n",
            "{'id': 1516903292575617024, 'username': 'idgiant66', 'created_at': 'Wed Apr 20 22:15:02 +0000 2022', 'lng': -116.3347702, 'lat': 43.5617332, 'text': 'Drinking a Pabst Blue Ribbon by @pabstblueribbon at @twisted_timber — https://t.co/DvU6aF8EgV'}\n",
            "{'id': 1516903292520919040, 'username': 'CarterBond5', 'created_at': 'Wed Apr 20 22:15:02 +0000 2022', 'lng': -122.6936605, 'lat': 42.191647, 'text': '@Chempyres I think this is why I’m so in love with Vildhjarta. It’s just pure bliss'}\n",
            "{'id': 1516903293150191616, 'username': 'melissadags', 'created_at': 'Wed Apr 20 22:15:02 +0000 2022', 'lng': -79.2725695, 'lat': 43.629311, 'text': '@rob_kempson Oh, an aggressive hug would be divine! As would hearing you sing. I wish I could be there, but must be… https://t.co/iQxcCu2loX'}\n",
            "{'id': 1516903293829668864, 'username': 'blackee_chan', 'created_at': 'Wed Apr 20 22:15:02 +0000 2022', 'lng': -97.754724, 'lat': 30.323345500000002, 'text': '@lookitsmegan21 Nah let me make it today is 420😎'}\n",
            "{'id': 1516903294534393857, 'username': 'runnergirl1211', 'created_at': 'Wed Apr 20 22:15:02 +0000 2022', 'lng': -71.4356815, 'lat': 42.305097, 'text': '👍👏❤️😂🤣 … totally agree… and it’s well documented! 🤮🤢🏌️\\u200d♀️🆙⬆️'}\n",
            "{'id': 1516903295503192064, 'username': 'mrmiller1972', 'created_at': 'Wed Apr 20 22:15:03 +0000 2022', 'lng': -81.3677725, 'lat': 28.501678499999997, 'text': '@RantyAmyCurtis How well does a mask work when you have a bloody nose? Asking for an as seen on TV doctor.'}\n",
            "{'id': 1516903296157499393, 'username': 'mightytomwhitey', 'created_at': 'Wed Apr 20 22:15:03 +0000 2022', 'lng': -83.1738665, 'lat': 32.6782075, 'text': '@KyserL @RALITSACNN @GradyNewsource @delaneytarr I am jealous and excited at the same time… I’m not counting the days but I’m close!'}\n",
            "{'id': 1516903296396529664, 'username': 'reuben81691', 'created_at': 'Wed Apr 20 22:15:03 +0000 2022', 'lng': -118.4119065, 'lat': 34.0207895, 'text': '@Biggie_S76 @RobCerda @CboyStar @USChelle2 @Hunny_Bunny22 @BigAL_213 @down2marsgurrrl @MsSportsFan24 @LozLakeshow… https://t.co/TX9b6bhE8U'}\n",
            "{'id': 1516903297113808897, 'username': 'hypepiics', 'created_at': 'Wed Apr 20 22:15:03 +0000 2022', 'lng': -89.5397445, 'lat': 39.8408095, 'text': \"It's 4/20 give him a break, had a little bit to much today\"}\n",
            "{'id': 1516903297441050624, 'username': 'CoachMoorhead', 'created_at': 'Wed Apr 20 22:15:03 +0000 2022', 'lng': -83.1433925, 'lat': 40.0408125, 'text': '4x1600 m relay of Carter Schorr, Evan Rice, Alex Rode'}\n",
            "{'id': 1516903296719589376, 'username': 'MRBarylski', 'created_at': 'Wed Apr 20 22:15:03 +0000 2022', 'lng': -88.0887756, 'lat': 42.9960518, 'text': 'Drinking a Drips &amp; Drops by @surlybrewing @ Cleveland Pub &amp; Grill — https://t.co/jkOGqFgVAP'}\n",
            "{'id': 1516903298011254785, 'username': 'unz3n_', 'created_at': 'Wed Apr 20 22:15:03 +0000 2022', 'lng': -118.4119065, 'lat': 34.0207895, 'text': 'Uber is wilddddd My ride was initially gonna be $40 and I waited legit 5 min and it dropped to $14'}\n",
            "{'id': 1516903297906528257, 'username': 'heyjimbousaf', 'created_at': 'Wed Apr 20 22:15:03 +0000 2022', 'lng': -80.926628, 'lat': 33.6311395, 'text': \"We just took a DNA test. Turns out we're 100% To Be Continued. https://t.co/tQIpBR8lRX\"}\n",
            "{'id': 1516903298766417920, 'username': 'negralinda1022', 'created_at': 'Wed Apr 20 22:15:03 +0000 2022', 'lng': -80.4572025, 'lat': 25.671740999999997, 'text': '@CloutChaserJOSH @WarpedBritt Done deal.!!!'}\n",
            "{'id': 1516903300095832064, 'username': 'jendanczak', 'created_at': 'Wed Apr 20 22:15:04 +0000 2022', 'lng': -118.325145, 'lat': 34.182159999999996, 'text': 'Ok there are VERY attractive people that work at this Carmax'}\n",
            "{'id': 1516903300305756162, 'username': 'crowarzaga', 'created_at': 'Wed Apr 20 22:15:04 +0000 2022', 'lng': -73.723025, 'lat': 45.557830499999994, 'text': 'What a shite month just one break plz'}\n",
            "{'id': 1516903300251193344, 'username': 'igjchoir', 'created_at': 'Wed Apr 20 22:15:04 +0000 2022', 'lng': -116.7937445, 'lat': 47.701786999999996, 'text': 'This is what we had to work with for four years. He’s Putin’s ally. Please know that there are many Americans who d… https://t.co/Q7M5HzECgL'}\n",
            "{'id': 1516903300662132737, 'username': 'FandomFutbol', 'created_at': 'Wed Apr 20 22:15:04 +0000 2022', 'lng': -118.39963900000001, 'lat': 34.082496500000005, 'text': 'Power play by Slonina to get a call-up? If you’re Berhalter — why not? We have no No. 1 keeper at this point #USMNT'}\n",
            "{'id': 1516903300297281536, 'username': 'joshchafetz', 'created_at': 'Wed Apr 20 22:15:04 +0000 2022', 'lng': -77.0143985, 'lat': 38.898602999999994, 'text': '@williamadler78 @dispositive and this OKAY I’M DONE NOW https://t.co/rO7cBhjKY4'}\n",
            "{'id': 1516903301333274625, 'username': 'thebryantt', 'created_at': 'Wed Apr 20 22:15:04 +0000 2022', 'lng': -97.754724, 'lat': 30.323345500000002, 'text': 'Does anybody have a recording of DJ hamburger plz lol'}\n",
            "{'id': 1516903301605822464, 'username': 'bozchron', 'created_at': 'Wed Apr 20 22:15:04 +0000 2022', 'lng': -111.074249, 'lat': 45.6706102, 'text': 'AP:  Poll seeking special session on election integrity fails https://t.co/CnDWOM4bYN'}\n"
          ]
        },
        {
          "output_type": "display_data",
          "data": {
            "text/plain": [
              "<IPython.core.display.Javascript object>"
            ],
            "application/javascript": [
              "\n",
              "    async function download(id, filename, size) {\n",
              "      if (!google.colab.kernel.accessAllowed) {\n",
              "        return;\n",
              "      }\n",
              "      const div = document.createElement('div');\n",
              "      const label = document.createElement('label');\n",
              "      label.textContent = `Downloading \"${filename}\": `;\n",
              "      div.appendChild(label);\n",
              "      const progress = document.createElement('progress');\n",
              "      progress.max = size;\n",
              "      div.appendChild(progress);\n",
              "      document.body.appendChild(div);\n",
              "\n",
              "      const buffers = [];\n",
              "      let downloaded = 0;\n",
              "\n",
              "      const channel = await google.colab.kernel.comms.open(id);\n",
              "      // Send a message to notify the kernel that we're ready.\n",
              "      channel.send({})\n",
              "\n",
              "      for await (const message of channel.messages) {\n",
              "        // Send a message to notify the kernel that we're ready.\n",
              "        channel.send({})\n",
              "        if (message.buffers) {\n",
              "          for (const buffer of message.buffers) {\n",
              "            buffers.push(buffer);\n",
              "            downloaded += buffer.byteLength;\n",
              "            progress.value = downloaded;\n",
              "          }\n",
              "        }\n",
              "      }\n",
              "      const blob = new Blob(buffers, {type: 'application/binary'});\n",
              "      const a = document.createElement('a');\n",
              "      a.href = window.URL.createObjectURL(blob);\n",
              "      a.download = filename;\n",
              "      div.appendChild(a);\n",
              "      a.click();\n",
              "      div.remove();\n",
              "    }\n",
              "  "
            ]
          },
          "metadata": {}
        },
        {
          "output_type": "display_data",
          "data": {
            "text/plain": [
              "<IPython.core.display.Javascript object>"
            ],
            "application/javascript": [
              "download(\"download_24af7ba9-a803-4c7e-b0ad-8b8e9b85cc40\", \"geotweets.csv\", 12507)"
            ]
          },
          "metadata": {}
        },
        {
          "output_type": "stream",
          "name": "stdout",
          "text": [
            "the csv has been downloaded to your local computer. The program has been completed successfully.\n"
          ]
        }
      ],
      "source": [
        "if __name__ == \"__main__\":\n",
        "    # These are provided to you through the Twitter API after you create a account\n",
        "    # register a Twitter App to get the keys and access tokens.\n",
        "    output_file = '/gdrive/My Drive/geotweets.csv'\n",
        "\n",
        "    # Apply for your own Twitter API keys at https://developer.twitter.com/en/apply-for-access\n",
        "    consumer_key = \"mfdkZiz6WJWqoHrB56UZGus4V\"\n",
        "    consumer_secret = \"iXE0TVbk65NOHfN5zsZeud3FK4csuuaUEa921KfwgRRxQKzLI7\"\n",
        "    access_token = \"1516862276715696128-5eQNbOdo55b5miQTyTLsuXr85aV6JX\"\n",
        "    access_token_secret = \"z37UTcOuRjUz3xG9dDBVmx58n7TQ8DxfthZhkVy5k6nXV\"\n",
        "\n",
        "    myauth = tweepy.OAuthHandler(consumer_key, consumer_secret)\n",
        "    myauth.set_access_token(access_token, access_token_secret)\n",
        "\n",
        "    # LOCATIONS are the longitude, latitude coordinate corners for a box that restricts the\n",
        "    # geographic area from which you will stream tweets. The first two define the southwest\n",
        "    # corner of the box and the second two define the northeast corner of the box.\n",
        "    LOCATIONS = [-124.7771694, 24.520833, -66.947028, 49.384472,  # Contiguous US\n",
        "                 -164.639405, 58.806859, -144.152365, 71.76871,  # Alaska\n",
        "                 -160.161542, 18.776344, -154.641396, 22.878623]  # Hawaii\n",
        "\n",
        "    stream_listener = StreamListener(time_limit=10, file=output_file)\n",
        "    stream = tweepy.Stream(auth=myauth, listener=stream_listener)\n",
        "    stream.filter(locations=LOCATIONS, languages=['en'], encoding=\"utf-8\")"
      ]
    }
  ],
  "metadata": {
    "colab": {
      "collapsed_sections": [],
      "name": "Copy of Copy of 02_geosearch.ipynb",
      "provenance": []
    },
    "kernelspec": {
      "display_name": "Python 3",
      "language": "python",
      "name": "python3"
    },
    "language_info": {
      "codemirror_mode": {
        "name": "ipython",
        "version": 3
      },
      "file_extension": ".py",
      "mimetype": "text/x-python",
      "name": "python",
      "nbconvert_exporter": "python",
      "pygments_lexer": "ipython3",
      "version": "3.7.4"
    }
  },
  "nbformat": 4,
  "nbformat_minor": 0
}